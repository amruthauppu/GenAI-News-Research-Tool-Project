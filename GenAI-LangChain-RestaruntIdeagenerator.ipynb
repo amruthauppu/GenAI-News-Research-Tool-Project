{
 "cells": [
  {
   "cell_type": "code",
   "execution_count": 2,
   "id": "6b008cab",
   "metadata": {},
   "outputs": [],
   "source": [
    "from secret_key import openapi_key\n",
    "import os\n",
    "os.environ['OPENAI_API_KEY'] = openapi_key"
   ]
  },
  {
   "cell_type": "code",
   "execution_count": 3,
   "id": "4aab9f24",
   "metadata": {},
   "outputs": [],
   "source": [
    "from secret_key import serpapi_key\n",
    "os.environ['SERPAPI_API_KEY'] = serpapi_key"
   ]
  },
  {
   "cell_type": "code",
   "execution_count": 5,
   "id": "381415f4",
   "metadata": {},
   "outputs": [
    {
     "name": "stderr",
     "output_type": "stream",
     "text": [
      "/Users/ammu/anaconda3/lib/python3.11/site-packages/langchain_core/_api/deprecation.py:119: LangChainDeprecationWarning: The class `OpenAI` was deprecated in LangChain 0.0.10 and will be removed in 0.2.0. An updated version of the class exists in the langchain-openai package and should be used instead. To use it run `pip install -U langchain-openai` and import as `from langchain_openai import OpenAI`.\n",
      "  warn_deprecated(\n",
      "/Users/ammu/anaconda3/lib/python3.11/site-packages/langchain_core/_api/deprecation.py:119: LangChainDeprecationWarning: The method `BaseLLM.predict` was deprecated in langchain-core 0.1.7 and will be removed in 0.2.0. Use invoke instead.\n",
      "  warn_deprecated(\n"
     ]
    },
    {
     "name": "stdout",
     "output_type": "stream",
     "text": [
      "\n",
      "\n",
      "\"Royal Spice House\" \n"
     ]
    }
   ],
   "source": [
    "from langchain.llms import OpenAI\n",
    "\n",
    "llm = OpenAI(temperature=0.6)\n",
    "name = llm.predict(\"I want to open a restaurant for Indian food. Suggest a fency name for this.\")\n",
    "print(name)\n",
    "#here temparature means how creative we want our model to be if we wantour model \n",
    "#to be creative then it will  be 1 and the acuuracy itsnot good, if the temparature is less it may not be that creative but it will give correect resulta"
   ]
  },
  {
   "cell_type": "code",
   "execution_count": 10,
   "id": "42052f20",
   "metadata": {},
   "outputs": [
    {
     "name": "stdout",
     "output_type": "stream",
     "text": [
      "I want to open a restaurant for indian food. Suggest a fency name for this.\n"
     ]
    }
   ],
   "source": [
    "from langchain.prompts import PromptTemplate\n",
    "\n",
    "promt_temp_name = PromptTemplate(\n",
    "input_variables = ['cuisine'],\n",
    "template = 'I want to open a restaurant for {cuisine} food. Suggest a fency name for this.'\n",
    ")\n",
    "p = promt_temp_name.format(cuisine = 'indian')\n",
    "print(p)\n",
    "#prompt template is nothing but in which format we should give input in order to generate a response"
   ]
  },
  {
   "cell_type": "code",
   "execution_count": 12,
   "id": "fdcb62e9",
   "metadata": {},
   "outputs": [
    {
     "name": "stdout",
     "output_type": "stream",
     "text": [
      "cuisineindian\n",
      "\n",
      "\n",
      "\"Spice Haven\"\n"
     ]
    }
   ],
   "source": [
    "llm = OpenAI(temperature=0.6)\n",
    "p = input('cuisine')\n",
    "name = llm.predict(f\"I want to open a restaurant for {p} food. Suggest a fency name for this.\")\n",
    "print(name)"
   ]
  },
  {
   "cell_type": "code",
   "execution_count": 14,
   "id": "0c9208fb",
   "metadata": {},
   "outputs": [
    {
     "name": "stderr",
     "output_type": "stream",
     "text": [
      "/Users/ammu/anaconda3/lib/python3.11/site-packages/langchain_core/_api/deprecation.py:119: LangChainDeprecationWarning: The class `LLMChain` was deprecated in LangChain 0.1.17 and will be removed in 0.3.0. Use RunnableSequence, e.g., `prompt | llm` instead.\n",
      "  warn_deprecated(\n",
      "/Users/ammu/anaconda3/lib/python3.11/site-packages/langchain_core/_api/deprecation.py:119: LangChainDeprecationWarning: The method `Chain.run` was deprecated in langchain 0.1.0 and will be removed in 0.2.0. Use invoke instead.\n",
      "  warn_deprecated(\n"
     ]
    },
    {
     "data": {
      "text/plain": [
       "'\\n\\n\"El Sabor de México\" (The Flavor of Mexico)'"
      ]
     },
     "execution_count": 14,
     "metadata": {},
     "output_type": "execute_result"
    }
   ],
   "source": [
    "#we can python string format like above but we are  using prompt template as the use of this in llmchain\n",
    "#so there is no need for the entire sentence agafrom langchain.chains import LLMChain, we can re use the prompt templete class\n",
    "from langchain.chains import LLMChain\n",
    "\n",
    "chain = LLMChain(llm=llm, prompt=promt_temp_name)\n",
    "chain.run(\"Mexican\")\n"
   ]
  },
  {
   "cell_type": "code",
   "execution_count": 15,
   "id": "ac7bdf15",
   "metadata": {},
   "outputs": [],
   "source": [
    "llm = OpenAI(temperature=0.6)\n",
    "\n",
    "promt_temp_name = PromptTemplate(\n",
    "input_variables = ['cuisine'],\n",
    "template = 'I want to open a restaurant for {cuisine} food. Suggest a fency name for this.'\n",
    ")\n",
    "\n",
    "name_chain =LLMChain(llm=llm, prompt=promt_temp_name)\n",
    "\n",
    "prompt_template_items = PromptTemplate(\n",
    "    input_variables = ['restaurant_name'],\n",
    "    template=\"\"\"Suggest some menu items for {restaurant_name}\"\"\"\n",
    ")\n",
    "\n",
    "food_items_chain = LLMChain(llm=llm, prompt=prompt_template_items)"
   ]
  },
  {
   "cell_type": "code",
   "execution_count": 16,
   "id": "dd572d90",
   "metadata": {},
   "outputs": [
    {
     "name": "stdout",
     "output_type": "stream",
     "text": [
      " \n",
      "\n",
      "1. Spicy Chicken Tikka Masala: Tender pieces of chicken cooked in a creamy tomato-based sauce with a blend of spices.\n",
      "\n",
      "2. Vegetable Korma: Assorted vegetables cooked in a rich and flavorful coconut-based curry.\n",
      "\n",
      "3. Lamb Vindaloo: A fiery dish made with tender chunks of lamb cooked in a spicy and tangy tomato-based sauce.\n",
      "\n",
      "4. Tandoori Shrimp: Marinated shrimp cooked in a traditional clay oven and served with a side of mint chutney.\n",
      "\n",
      "5. Aloo Gobi: A classic vegetarian dish made with potatoes and cauliflower cooked in a blend of spices.\n",
      "\n",
      "6. Butter Chicken: A popular and indulgent dish made with succulent pieces of chicken cooked in a creamy and buttery tomato sauce.\n",
      "\n",
      "7. Chana Masala: A hearty and flavorful dish made with chickpeas cooked in a blend of aromatic spices.\n",
      "\n",
      "8. Palak Paneer: A vegetarian favorite, this dish features cubes of paneer (Indian cheese) cooked in a creamy spinach-based sauce.\n",
      "\n",
      "9. Chicken Biryani: Fragrant basmati rice cooked with tender pieces of chicken and a variety of spices.\n",
      "\n",
      "10. Naan Bread: A must-have accompaniment to any Indian meal, this traditional flatbread\n"
     ]
    }
   ],
   "source": [
    "#simple sequentional chain which contains only one input and output if we want both the\n",
    "#restarunt names and menu items in the simple sequential chain it wont be possible\n",
    "\n",
    "from langchain.chains import SimpleSequentialChain\n",
    "chain = SimpleSequentialChain(chains = [name_chain, food_items_chain])\n",
    "\n",
    "content = chain.run(\"Indian\")\n",
    "print(content)"
   ]
  },
  {
   "cell_type": "code",
   "execution_count": 19,
   "id": "56be93ca",
   "metadata": {},
   "outputs": [],
   "source": [
    "llm = OpenAI(temperature=0.7)\n",
    "\n",
    "prompt_template_name = PromptTemplate(\n",
    "    input_variables =['cuisine'],\n",
    "    template = \"I want to open a restaurant for {cuisine} food. Suggest a fency name for this.\"\n",
    ")\n",
    "\n",
    "name_chain =LLMChain(llm=llm, prompt=prompt_template_name, output_key=\"restaurant_name\")"
   ]
  },
  {
   "cell_type": "code",
   "execution_count": 20,
   "id": "6c859729",
   "metadata": {},
   "outputs": [],
   "source": [
    "llm = OpenAI(temperature=0.7)\n",
    "\n",
    "prompt_template_items = PromptTemplate(\n",
    "    input_variables = ['restaurant_name'],\n",
    "    template=\"Suggest some menu items for {restaurant_name}.\"\n",
    ")\n",
    "\n",
    "food_items_chain =LLMChain(llm=llm, prompt=prompt_template_items, output_key=\"menu_items\")"
   ]
  },
  {
   "cell_type": "code",
   "execution_count": 23,
   "id": "4ced7034",
   "metadata": {},
   "outputs": [
    {
     "name": "stderr",
     "output_type": "stream",
     "text": [
      "/Users/ammu/anaconda3/lib/python3.11/site-packages/langchain_core/_api/deprecation.py:119: LangChainDeprecationWarning: The method `Chain.__call__` was deprecated in langchain 0.1.0 and will be removed in 0.2.0. Use invoke instead.\n",
      "  warn_deprecated(\n"
     ]
    },
    {
     "data": {
      "text/plain": [
       "{'cuisine': 'Indian',\n",
       " 'restaurant_name': '\\n\\n\"Spice Palace\"',\n",
       " 'menu_items': '\\n\\n1. Spicy Chicken Tikka Masala\\n2. Lamb Vindaloo\\n3. Vegetable Samosas with Tamarind Chutney\\n4. Butter Chicken Curry\\n5. Aloo Gobi (Potato and Cauliflower Curry)\\n6. Chana Masala (Chickpea Curry)\\n7. Tandoori Shrimp Skewers\\n8. Palak Paneer (Spinach and Cottage Cheese Curry)\\n9. Biryani Rice with Chicken or Vegetables\\n10. Garlic Naan Bread\\n11. Mango Lassi (Yogurt-based drink)\\n12. Papadum (Crispy lentil crackers)\\n13. Chicken Korma\\n14. Saag Gosht (Lamb and Spinach Curry)\\n15. Malai Kofta (Vegetable and Cheese Dumplings in Creamy Sauce)'}"
      ]
     },
     "execution_count": 23,
     "metadata": {},
     "output_type": "execute_result"
    }
   ],
   "source": [
    "#sequentialchain where we can give multiple inputs and outputs\n",
    "from langchain.chains import SequentialChain\n",
    "\n",
    "chain = SequentialChain(\n",
    "    chains = [name_chain, food_items_chain],\n",
    "    input_variables = ['cuisine'],\n",
    "    output_variables = ['restaurant_name', \"menu_items\"]\n",
    ")\n",
    "\n",
    "chain({\"cuisine\": \"Indian\"})"
   ]
  },
  {
   "cell_type": "code",
   "execution_count": 15,
   "id": "4ed76d67",
   "metadata": {},
   "outputs": [
    {
     "name": "stdout",
     "output_type": "stream",
     "text": [
      "\n",
      "\n",
      "\u001b[1m> Entering new AgentExecutor chain...\u001b[0m\n",
      "\u001b[32;1m\u001b[1;3m I should use Wikipedia to find information about Elon Musk's birthdate and then use a calculator to calculate his age in 2023.\n",
      "Action: wikipedia\n",
      "Action Input: elonmusk\u001b[0m\n",
      "Observation: \u001b[36;1m\u001b[1;3mPage: Twitter under Elon Musk\n",
      "Summary: Elon Musk completed his acquisition of Twitter in October 2022; Musk acted as CEO of Twitter until June 2023 when he was succeeded by Linda Yaccarino. Twitter was then rebranded to X in July 2023. Initially during Musk's tenure, Twitter introduced a series of reforms and management changes; the company reinstated a number of previously banned accounts, reduced the workforce by approximately 80%, closed one of Twitter's three data centers, and largely eliminated the content moderation team, replacing it with the crowd-sourced fact-checking system Community Notes.\n",
      "In November 2022, Twitter then began offering paid verification checkmarks, followed by removing legacy verification. In December, the Twitter Files were released and a number of journalists suspended from the platform. The following year, a variety of further changes were made; API access restrictions, developer agreements updated, transgender hate conduct policies relaxed, new phrases and 'slurs' banned, and news headlines removed from posts. Temporary measures also occurred; media outlets were labeled as \"state-affiliated\" causing controversy, restrictions to viewing tweets and sending direct messages, as well as links to specific external websites blocked and delayed. One year after Musk's acquisition, active user engagement on the mobile app had declined 16% and the value of the company is estimated to be down between 55% and 65%, below the acquisition price of $44 billion.\n",
      "After stepping down to CTO, Musk remained the subject of criticism over viral misinformation and disinformation, an increase in hate speech such as anti-LGBT rhetoric, as well as a number of antisemitism controversies. In response to certain claims, X Corp. has served lawsuits against nonprofit organizations Media Matters and the Center for Countering Digital Hate for their analysis. Musk has defended the approach to content moderation as \"freedom of speech, not freedom of reach\", previously describing the platform as having liberal bias. Musk has described X as a \"digital town square\", with the vision of becoming an \"everything app\". Commentators have described it as a \"free speech free-for-all\", \"free-for-all hellscape\", and as a right-wing social network. The platform has otherwise gained favorable attention from conservatives and Republicans.\n",
      "\n",
      "Page: Elon Musk\n",
      "Summary: Elon Reeve Musk ( EE-lon; born June 28, 1971) is a businessman and investor. He is the founder, chairman, CEO, and CTO of SpaceX; angel investor, CEO, product architect, and former chairman of Tesla, Inc.; owner, executive chairman, and CTO of X Corp.; founder of the Boring Company and xAI; co-founder of Neuralink and OpenAI; and president of the Musk Foundation. He is one of the wealthiest people in the world; as of April 2024, Forbes estimates his net worth to be $178 billion. \n",
      "A member of the wealthy South African Musk family, Musk was born in Pretoria and briefly attended the University of Pretoria before immigrating to Canada at age 18, acquiring citizenship through his Canadian-born mother. Two years later, he matriculated at Queen's University at Kingston in Canada. Musk later transferred to the University of Pennsylvania and received bachelor's degrees in economics and physics. He moved to California in 1995 to attend Stanford University, but dropped out after two days and, with his brother Kimbal, co-founded online city guide software company Zip2. The startup was acquired by Compaq for $307 million in 1999. That same year, Musk co-founded X.com, a direct bank. X.com merged with Confinity in 2000 to form PayPal. In October 2002, eBay acquired PayPal for $1.5 billion. Using $100 million of the money he made from the sale of PayPal, Musk founded SpaceX, a spaceflight services company, in 2002. \n",
      "In 2004, Musk became an early investor in electric vehicle manufacturer Tesla Motors, Inc. (later Tesla, Inc.). He became the company's chairman and product architect, assuming the position \u001b[0m\n",
      "Thought:\u001b[32;1m\u001b[1;3m Now I have found information about Elon Musk's birthdate, I can use a calculator to calculate his age in 2023.\n",
      "Action: Calculator\n",
      "Action Input: 2023 - 1971\u001b[0m\n",
      "Observation: \u001b[33;1m\u001b[1;3mAnswer: 52\u001b[0m\n",
      "Thought:\u001b[32;1m\u001b[1;3m I now know the final answer.\n",
      "Final Answer: Elon Musk's age in 2023 will be 52 years old.\u001b[0m\n",
      "\n",
      "\u001b[1m> Finished chain.\u001b[0m\n"
     ]
    },
    {
     "data": {
      "text/plain": [
       "\"Elon Musk's age in 2023 will be 52 years old.\""
      ]
     },
     "execution_count": 15,
     "metadata": {},
     "output_type": "execute_result"
    }
   ],
   "source": [
    "from langchain.agents import AgentType,initialize_agent,load_tools\n",
    "\n",
    "\n",
    "tools = load_tools(['wikipedia','llm-math'],llm=llm)\n",
    "#creating an agent using initialize agent\n",
    "agent = initialize_agent(tools,llm,agent = AgentType.ZERO_SHOT_REACT_DESCRIPTION,verbose = True)\n",
    "agent.run(\"when was elonmusk born? what is his age as of 2023\")\n",
    "#verbose = True means it will show step by step process in execution\n",
    "#zero shot reaction means first observation,2->tought,3->action"
   ]
  },
  {
   "cell_type": "code",
   "execution_count": 11,
   "id": "b296818b",
   "metadata": {},
   "outputs": [
    {
     "name": "stdout",
     "output_type": "stream",
     "text": [
      "Collecting wikipedia\n",
      "  Downloading wikipedia-1.4.0.tar.gz (27 kB)\n",
      "  Preparing metadata (setup.py) ... \u001b[?25ldone\n",
      "\u001b[?25hRequirement already satisfied: beautifulsoup4 in ./anaconda3/lib/python3.11/site-packages (from wikipedia) (4.12.2)\n",
      "Requirement already satisfied: requests<3.0.0,>=2.0.0 in ./anaconda3/lib/python3.11/site-packages (from wikipedia) (2.31.0)\n",
      "Requirement already satisfied: charset-normalizer<4,>=2 in ./anaconda3/lib/python3.11/site-packages (from requests<3.0.0,>=2.0.0->wikipedia) (2.0.4)\n",
      "Requirement already satisfied: idna<4,>=2.5 in ./anaconda3/lib/python3.11/site-packages (from requests<3.0.0,>=2.0.0->wikipedia) (3.4)\n",
      "Requirement already satisfied: urllib3<3,>=1.21.1 in ./anaconda3/lib/python3.11/site-packages (from requests<3.0.0,>=2.0.0->wikipedia) (2.0.7)\n",
      "Requirement already satisfied: certifi>=2017.4.17 in ./anaconda3/lib/python3.11/site-packages (from requests<3.0.0,>=2.0.0->wikipedia) (2024.2.2)\n",
      "Requirement already satisfied: soupsieve>1.2 in ./anaconda3/lib/python3.11/site-packages (from beautifulsoup4->wikipedia) (2.5)\n",
      "Building wheels for collected packages: wikipedia\n",
      "  Building wheel for wikipedia (setup.py) ... \u001b[?25ldone\n",
      "\u001b[?25h  Created wheel for wikipedia: filename=wikipedia-1.4.0-py3-none-any.whl size=11680 sha256=b73b02b0d638ad615dbc9965b9993b519d4defb3a0e8d11ee3c03b41ca16e119\n",
      "  Stored in directory: /Users/ammu/Library/Caches/pip/wheels/8f/ab/cb/45ccc40522d3a1c41e1d2ad53b8f33a62f394011ec38cd71c6\n",
      "Successfully built wikipedia\n",
      "Installing collected packages: wikipedia\n",
      "Successfully installed wikipedia-1.4.0\n",
      "Note: you may need to restart the kernel to use updated packages.\n"
     ]
    }
   ],
   "source": [
    "pip install wikipedia"
   ]
  },
  {
   "cell_type": "code",
   "execution_count": 8,
   "id": "8314e810",
   "metadata": {},
   "outputs": [
    {
     "name": "stdout",
     "output_type": "stream",
     "text": [
      "\n",
      "\n",
      "\u001b[1m> Entering new AgentExecutor chain...\u001b[0m\n",
      "\u001b[32;1m\u001b[1;3m you should always think about what to do\n",
      "Action: Search\n",
      "Action Input: kollur guntur dist zipcode\u001b[0m\n",
      "Observation: \u001b[36;1m\u001b[1;3m522324\u001b[0m\n",
      "Thought:\u001b[32;1m\u001b[1;3m I now know the final answer\n",
      "Final Answer: 522324\u001b[0m\n",
      "\n",
      "\u001b[1m> Finished chain.\u001b[0m\n"
     ]
    },
    {
     "data": {
      "text/plain": [
       "'522324'"
      ]
     },
     "execution_count": 8,
     "metadata": {},
     "output_type": "execute_result"
    }
   ],
   "source": [
    "from langchain.agents import AgentType,initialize_agent,load_tools\n",
    "\n",
    "\n",
    "tools = load_tools(['serpapi','llm-math'],llm=llm)\n",
    "#creating an agent using initialize agent\n",
    "agent = initialize_agent(tools,llm,agent = AgentType.ZERO_SHOT_REACT_DESCRIPTION,verbose = True)\n",
    "agent.run(\"what is zipcode for kollur,guntur dist\")\n",
    "#verbose = True means it will show step by step process in execution\n",
    "#zero shot reaction means first observation,2->tought,3->action"
   ]
  },
  {
   "cell_type": "code",
   "execution_count": 14,
   "id": "40c71afe",
   "metadata": {},
   "outputs": [],
   "source": [
    "#Conversationchain attach memory"
   ]
  },
  {
   "cell_type": "code",
   "execution_count": 9,
   "id": "63e8e5a8",
   "metadata": {},
   "outputs": [
    {
     "name": "stdout",
     "output_type": "stream",
     "text": [
      "The following is a friendly conversation between a human and an AI. The AI is talkative and provides lots of specific details from its context. If the AI does not know the answer to a question, it truthfully says it does not know.\n",
      "\n",
      "Current conversation:\n",
      "{history}\n",
      "Human: {input}\n",
      "AI:\n"
     ]
    }
   ],
   "source": [
    "from langchain.chains import ConversationChain\n",
    "convo = ConversationChain(llm=OpenAI(temperature=0.7))\n",
    "print(convo.prompt.template)"
   ]
  },
  {
   "cell_type": "code",
   "execution_count": 10,
   "id": "6716fba8",
   "metadata": {},
   "outputs": [
    {
     "data": {
      "text/plain": [
       "' The first cricket world cup was held in 1975 and was won by the West Indies team. They beat Australia by 17 runs in the final match. The tournament was organized by the International Cricket Council and was held in England. The trophy was named the Prudential Cup and was presented to the winning team by the Duke of Edinburgh. Interestingly, the Indian team refused to play in the tournament due to political reasons.'"
      ]
     },
     "execution_count": 10,
     "metadata": {},
     "output_type": "execute_result"
    }
   ],
   "source": [
    "convo.run(\"Who won the first cricket world cup?\")"
   ]
  },
  {
   "cell_type": "code",
   "execution_count": 11,
   "id": "d7be262e",
   "metadata": {},
   "outputs": [
    {
     "data": {
      "text/plain": [
       "'  10+5 is equal to 15.'"
      ]
     },
     "execution_count": 11,
     "metadata": {},
     "output_type": "execute_result"
    }
   ],
   "source": [
    "convo.run(\"How much is 10+5?\")"
   ]
  },
  {
   "cell_type": "code",
   "execution_count": 12,
   "id": "c63f3aa4",
   "metadata": {},
   "outputs": [
    {
     "data": {
      "text/plain": [
       "' The captain of the West Indies team during the first cricket world cup was Clive Lloyd. He was a left-handed batsman and a medium-pace bowler. He also led the team to win the second cricket world cup in 1979.'"
      ]
     },
     "execution_count": 12,
     "metadata": {},
     "output_type": "execute_result"
    }
   ],
   "source": [
    "convo.run(\"Who was the captain ofthe winning team?\")"
   ]
  },
  {
   "cell_type": "code",
   "execution_count": 13,
   "id": "f4c52217",
   "metadata": {},
   "outputs": [
    {
     "name": "stdout",
     "output_type": "stream",
     "text": [
      "Human: Who won the first cricket world cup?\n",
      "AI:  The first cricket world cup was held in 1975 and was won by the West Indies team. They beat Australia by 17 runs in the final match. The tournament was organized by the International Cricket Council and was held in England. The trophy was named the Prudential Cup and was presented to the winning team by the Duke of Edinburgh. Interestingly, the Indian team refused to play in the tournament due to political reasons.\n",
      "Human: How much is 10+5?\n",
      "AI:   10+5 is equal to 15.\n",
      "Human: Who was the captain ofthe winning team?\n",
      "AI:  The captain of the West Indies team during the first cricket world cup was Clive Lloyd. He was a left-handed batsman and a medium-pace bowler. He also led the team to win the second cricket world cup in 1979.\n"
     ]
    }
   ],
   "source": [
    "print(convo.memory.buffer)"
   ]
  },
  {
   "cell_type": "code",
   "execution_count": 16,
   "id": "163cc284",
   "metadata": {},
   "outputs": [],
   "source": [
    "#ConversationBufferWindowMemory\n",
    "#ConversationBufferWindowMemory will restrict the number of conversations in the memory, as the openAI is going\n",
    "#to charge over 1000 conversations it limits, ConversationBufferWindowMemory limits the conversations and erases after\n",
    "#the given number of tokens based on the requirement"
   ]
  },
  {
   "cell_type": "code",
   "execution_count": 18,
   "id": "bc7d02bb",
   "metadata": {},
   "outputs": [
    {
     "data": {
      "text/plain": [
       "\" The first cricket World Cup was won by the West Indies in 1975. They defeated Australia in the finals by 17 runs at Lord's Cricket Ground in London, England. The tournament was played in a round-robin format with eight teams participating. The West Indies team was led by Clive Lloyd and they had players like Viv Richards, Gordon Greenidge, and Andy Roberts in their squad. Australia, on the other hand, was captained by Ian Chappell and had players like Dennis Lillee, Rod Marsh, and Greg Chappell in their team. It was a close and exciting match, with the West Indies emerging as the first ever cricket World Cup champions.\""
      ]
     },
     "execution_count": 18,
     "metadata": {},
     "output_type": "execute_result"
    }
   ],
   "source": [
    "from langchain.memory import ConversationBufferWindowMemory\n",
    "memory = ConversationBufferWindowMemory(k=1)# number of conversations is one\n",
    "convo = ConversationChain(\n",
    "    llm=OpenAI(temperature=0.7),\n",
    "    memory=memory\n",
    ")# we have just added memory to the above,remaing is same\n",
    "convo.run(\"Who won the first cricket world cup?\")"
   ]
  },
  {
   "cell_type": "code",
   "execution_count": 19,
   "id": "a84957eb",
   "metadata": {},
   "outputs": [
    {
     "data": {
      "text/plain": [
       "'  5+5 is equal to 10.'"
      ]
     },
     "execution_count": 19,
     "metadata": {},
     "output_type": "execute_result"
    }
   ],
   "source": [
    "convo.run(\"How much is 5+5?\")"
   ]
  },
  {
   "cell_type": "code",
   "execution_count": 20,
   "id": "aefc7103",
   "metadata": {},
   "outputs": [
    {
     "data": {
      "text/plain": [
       "' I do not have enough context to accurately answer that question. Can you provide more information?'"
      ]
     },
     "execution_count": 20,
     "metadata": {},
     "output_type": "execute_result"
    }
   ],
   "source": [
    "convo.run(\"Who was the captain of the winning team?\")#as we given k=1 it remembers only one conversation"
   ]
  },
  {
   "cell_type": "code",
   "execution_count": null,
   "id": "e78b0a19",
   "metadata": {},
   "outputs": [],
   "source": []
  }
 ],
 "metadata": {
  "kernelspec": {
   "display_name": "Python 3 (ipykernel)",
   "language": "python",
   "name": "python3"
  },
  "language_info": {
   "codemirror_mode": {
    "name": "ipython",
    "version": 3
   },
   "file_extension": ".py",
   "mimetype": "text/x-python",
   "name": "python",
   "nbconvert_exporter": "python",
   "pygments_lexer": "ipython3",
   "version": "3.11.5"
  }
 },
 "nbformat": 4,
 "nbformat_minor": 5
}
